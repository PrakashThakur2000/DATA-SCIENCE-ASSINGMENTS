{
 "cells": [
  {
   "cell_type": "markdown",
   "id": "7fc95fe9",
   "metadata": {},
   "source": [
    "1.The time required for servicing transmissions is normally distributed with  = 45 minutes and  = 8 minutes.The service\n",
    "manager plans to have work begin on the transmission of a customer’s car 10 minutes after the car is dropped off and the\n",
    "customer is told that the car will be ready within 1 hour from drop-off. What is the probability that the service manager \n",
    "cannot meet his commitment? "
   ]
  },
  {
   "cell_type": "code",
   "execution_count": 1,
   "id": "c68ca487",
   "metadata": {},
   "outputs": [],
   "source": [
    "from scipy import stats \n",
    "from scipy.stats import norm "
   ]
  },
  {
   "cell_type": "code",
   "execution_count": 3,
   "id": "1f489c86",
   "metadata": {},
   "outputs": [
    {
     "data": {
      "text/plain": [
       "0.7340144709512995"
      ]
     },
     "execution_count": 3,
     "metadata": {},
     "output_type": "execute_result"
    }
   ],
   "source": [
    "stats.norm.cdf(0.625)\n"
   ]
  },
  {
   "cell_type": "code",
   "execution_count": 4,
   "id": "982cec89",
   "metadata": {},
   "outputs": [
    {
     "data": {
      "text/plain": [
       "0.26598552904870054"
      ]
     },
     "execution_count": 4,
     "metadata": {},
     "output_type": "execute_result"
    }
   ],
   "source": [
    "1-0.7340144709512995"
   ]
  },
  {
   "cell_type": "code",
   "execution_count": 6,
   "id": "44d11970",
   "metadata": {},
   "outputs": [
    {
     "data": {
      "text/plain": [
       "0.625"
      ]
     },
     "execution_count": 6,
     "metadata": {},
     "output_type": "execute_result"
    }
   ],
   "source": [
    "# finding z-score\n",
    "\n",
    "z=(50-45)/8\n",
    "z"
   ]
  },
  {
   "cell_type": "code",
   "execution_count": 8,
   "id": "f516b42d",
   "metadata": {},
   "outputs": [
    {
     "data": {
      "text/plain": [
       "0.7340144709512995"
      ]
     },
     "execution_count": 8,
     "metadata": {},
     "output_type": "execute_result"
    }
   ],
   "source": [
    "# finding probablity\n",
    " \n",
    "stats.norm.cdf(0.625)    "
   ]
  },
  {
   "cell_type": "code",
   "execution_count": 9,
   "id": "1d3c927d",
   "metadata": {},
   "outputs": [
    {
     "data": {
      "text/plain": [
       "0.26598552904870054"
      ]
     },
     "execution_count": 9,
     "metadata": {},
     "output_type": "execute_result"
    }
   ],
   "source": [
    "1-stats.norm.cdf(0.625) "
   ]
  },
  {
   "cell_type": "markdown",
   "id": "ccbf3b51",
   "metadata": {},
   "source": [
    "the probablity of service manager can meet his commitment is 0.265"
   ]
  },
  {
   "cell_type": "markdown",
   "id": "463f6181",
   "metadata": {},
   "source": [
    "2) The current age (in years) of 400 clerical employees at an insurance claims processing center is normally distributed with \n",
    "   mean  = 38 and Standard deviation  =6. For each statement below, please specify True/False. If false, briefly explain why.\n",
    "   \n",
    "   \n",
    "\n",
    "\n"
   ]
  },
  {
   "cell_type": "code",
   "execution_count": 12,
   "id": "d7fb2c38",
   "metadata": {},
   "outputs": [],
   "source": [
    "# A.More employees at the processing center are older than 44 than between 38 and 44."
   ]
  },
  {
   "cell_type": "code",
   "execution_count": 14,
   "id": "aa41b56e",
   "metadata": {},
   "outputs": [
    {
     "data": {
      "text/plain": [
       "0.15865525393145707"
      ]
     },
     "execution_count": 14,
     "metadata": {},
     "output_type": "execute_result"
    }
   ],
   "source": [
    "#p(X>44)\n",
    "\n",
    "1-stats.norm.cdf(44,38,6)"
   ]
  },
  {
   "cell_type": "code",
   "execution_count": 15,
   "id": "a9486b17",
   "metadata": {},
   "outputs": [
    {
     "data": {
      "text/plain": [
       "0.3413447460685429"
      ]
     },
     "execution_count": 15,
     "metadata": {},
     "output_type": "execute_result"
    }
   ],
   "source": [
    "#p(38<X<44)\n",
    "\n",
    "stats.norm.cdf(44,38,6)-stats.norm.cdf(38,38,6)"
   ]
  },
  {
   "cell_type": "code",
   "execution_count": 16,
   "id": "b08801f7",
   "metadata": {},
   "outputs": [],
   "source": [
    "# B. training program for employees under the age of 30 at the center would be expected to attract about 36 employees."
   ]
  },
  {
   "cell_type": "code",
   "execution_count": 17,
   "id": "8577f307",
   "metadata": {},
   "outputs": [
    {
     "data": {
      "text/plain": [
       "0.09121121972586788"
      ]
     },
     "execution_count": 17,
     "metadata": {},
     "output_type": "execute_result"
    }
   ],
   "source": [
    "# p(X<30)\n",
    "\n",
    "stats.norm.cdf(30,38,6)"
   ]
  },
  {
   "cell_type": "code",
   "execution_count": 20,
   "id": "932d18ae",
   "metadata": {},
   "outputs": [
    {
     "data": {
      "text/plain": [
       "36.484487890347154"
      ]
     },
     "execution_count": 20,
     "metadata": {},
     "output_type": "execute_result"
    }
   ],
   "source": [
    "# total no of employee under the age 30 \n",
    "\n",
    "# N*p(x<30)\n",
    "\n",
    "400*(0.09121121972586788)"
   ]
  },
  {
   "cell_type": "markdown",
   "id": "7fd1db64",
   "metadata": {},
   "source": [
    "SO statement A is False.\n",
    "p(X>44)>p(38<X<44)\n"
   ]
  },
  {
   "cell_type": "markdown",
   "id": "764c87c4",
   "metadata": {},
   "source": [
    "3) If X1 ~ N(μ, σ2) and X2 ~ N(μ, σ2) are iid normal random variables, then what is the difference between 2 X1 and X1 + X2? \n",
    "Discuss both their distributions and parameters.  "
   ]
  },
  {
   "cell_type": "markdown",
   "id": "2921220b",
   "metadata": {},
   "source": [
    "slution :-  As we know that if  X ∼ N(µ1, σ1^2 ), and  Y ∼ N(µ2, σ2^2 ) are two independent  random variables then   X + Y ∼ N(µ1 + µ2, σ1^2 + σ2^2 ) , and      X − Y ∼ N(µ1 − µ2, σ1^2 + σ2^2 ) .\n",
    "Similarly if  Z = aX + bY , where X and Y are as defined above, i.e Z is linear combination of X and Y , then Z ∼ N(aµ1 + bµ2,\n",
    "a^2σ1^2 + b^2σ2^2 ).\n",
    "\n",
    "\n",
    "  Therefore \n",
    "  \n",
    "  2X1~ N(2 u,4 σ^2) and \n",
    "  \n",
    "  X1+X2 ~  N(µ + µ, σ^2 + σ^2 ) ~ N(2 u, 2σ^2 ) \n",
    "  \n",
    "  2X1-(X1+X2) = N( 4µ,6 σ^2)\n",
    "\n",
    "\n",
    "\n"
   ]
  },
  {
   "cell_type": "markdown",
   "id": "a145eb6d",
   "metadata": {},
   "source": [
    "4) Let X ~ N(100, 20^2). Find two values, a and b, symmetric about the mean, such that the probability of the random variable\n",
    "taking a value between them is 0.99. "
   ]
  },
  {
   "cell_type": "code",
   "execution_count": 21,
   "id": "30ce5574",
   "metadata": {},
   "outputs": [
    {
     "data": {
      "text/plain": [
       "(48.48341392902199, 151.516586070978)"
      ]
     },
     "execution_count": 21,
     "metadata": {},
     "output_type": "execute_result"
    }
   ],
   "source": [
    "stats.norm.interval(0.99,100,20)"
   ]
  },
  {
   "cell_type": "markdown",
   "id": "43862d9a",
   "metadata": {},
   "source": [
    "5) Consider a company that has two different divisions. The annual profits from the two divisions are independent and have \n",
    "distributions Profit1 ~ N(5, 32) and Profit2 ~ N(7, 42) respectively. Both the profits are in $ Million. Answer the following\n",
    "questions about the total profit of the company in Rupees. Assume that $1 = Rs. 45\n",
    "A.\tSpecify a Rupee range (centered on the mean) such that it contains 95% probability for the annual profit of the company.\n",
    "B.\tSpecify the 5th percentile of profit (in Rupees) for the company\n",
    "C.\tWhich of the two divisions has a larger probability of making a loss in a given year?\n"
   ]
  },
  {
   "cell_type": "code",
   "execution_count": 27,
   "id": "866b2ef1",
   "metadata": {},
   "outputs": [],
   "source": [
    "import numpy as np"
   ]
  },
  {
   "cell_type": "code",
   "execution_count": 28,
   "id": "9fa95b38",
   "metadata": {},
   "outputs": [],
   "source": [
    "# finding total profit"
   ]
  },
  {
   "cell_type": "code",
   "execution_count": 33,
   "id": "ad2db4df",
   "metadata": {},
   "outputs": [
    {
     "name": "stdout",
     "output_type": "stream",
     "text": [
      "total profit is rs 540 million\n"
     ]
    }
   ],
   "source": [
    "total_profit = 5+7\n",
    "print (\"total profit is rs\",total_profit * 45, \"million\")"
   ]
  },
  {
   "cell_type": "code",
   "execution_count": 44,
   "id": "4c64e2bb",
   "metadata": {},
   "outputs": [
    {
     "data": {
      "text/plain": [
       "225.0"
      ]
     },
     "execution_count": 44,
     "metadata": {},
     "output_type": "execute_result"
    }
   ],
   "source": [
    "sd = np.sqrt((9)+(16))\n",
    "SD=sd*45\n",
    "SD"
   ]
  },
  {
   "cell_type": "code",
   "execution_count": 45,
   "id": "870bfbe8",
   "metadata": {},
   "outputs": [],
   "source": [
    "# A.\tSpecify a Rupee range (centered on the mean) such that it contains 95% probability for the annual profit of the company."
   ]
  },
  {
   "cell_type": "code",
   "execution_count": 46,
   "id": "08dd958c",
   "metadata": {},
   "outputs": [
    {
     "data": {
      "text/plain": [
       "(99.00810347848784, 980.9918965215122)"
      ]
     },
     "execution_count": 46,
     "metadata": {},
     "output_type": "execute_result"
    }
   ],
   "source": [
    "stats.norm.interval(0.95,540,225)"
   ]
  },
  {
   "cell_type": "markdown",
   "id": "983c3b2f",
   "metadata": {},
   "source": [
    "the rupee range is between 99.00 to 980.99 million"
   ]
  },
  {
   "cell_type": "markdown",
   "id": "17382f91",
   "metadata": {},
   "source": [
    "B.\tSpecify the 5th percentile of profit (in Rupees) for the company"
   ]
  },
  {
   "cell_type": "code",
   "execution_count": 47,
   "id": "fc2bdd13",
   "metadata": {},
   "outputs": [],
   "source": [
    "X= 540+(-1.645)*(225)"
   ]
  },
  {
   "cell_type": "code",
   "execution_count": 49,
   "id": "1723262a",
   "metadata": {},
   "outputs": [
    {
     "data": {
      "text/plain": [
       "169.875"
      ]
     },
     "execution_count": 49,
     "metadata": {},
     "output_type": "execute_result"
    }
   ],
   "source": [
    "X"
   ]
  },
  {
   "cell_type": "markdown",
   "id": "e305d25f",
   "metadata": {},
   "source": [
    "5th percentile profit is rs 170 million"
   ]
  },
  {
   "cell_type": "markdown",
   "id": "8b2fb133",
   "metadata": {},
   "source": [
    "C.\tWhich of the two divisions has a larger probability of making a loss in a given year?\n"
   ]
  },
  {
   "cell_type": "code",
   "execution_count": 51,
   "id": "43df8aaa",
   "metadata": {},
   "outputs": [
    {
     "data": {
      "text/plain": [
       "0.0477903522728147"
      ]
     },
     "execution_count": 51,
     "metadata": {},
     "output_type": "execute_result"
    }
   ],
   "source": [
    "# prob of division 1 loss p(x<0)\n",
    "stats.norm.cdf(0,5,3)"
   ]
  },
  {
   "cell_type": "code",
   "execution_count": 52,
   "id": "44560082",
   "metadata": {},
   "outputs": [
    {
     "data": {
      "text/plain": [
       "0.040059156863817086"
      ]
     },
     "execution_count": 52,
     "metadata": {},
     "output_type": "execute_result"
    }
   ],
   "source": [
    "# prob od divon 2 loss p(x<0)\n",
    "\n",
    "stats.norm.cdf(0,7,4)"
   ]
  },
  {
   "cell_type": "code",
   "execution_count": null,
   "id": "872e8118",
   "metadata": {},
   "outputs": [],
   "source": []
  }
 ],
 "metadata": {
  "kernelspec": {
   "display_name": "Python 3 (ipykernel)",
   "language": "python",
   "name": "python3"
  },
  "language_info": {
   "codemirror_mode": {
    "name": "ipython",
    "version": 3
   },
   "file_extension": ".py",
   "mimetype": "text/x-python",
   "name": "python",
   "nbconvert_exporter": "python",
   "pygments_lexer": "ipython3",
   "version": "3.11.3"
  }
 },
 "nbformat": 4,
 "nbformat_minor": 5
}
