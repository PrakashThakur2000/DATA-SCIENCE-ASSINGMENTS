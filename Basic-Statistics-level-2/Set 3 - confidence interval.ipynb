{
 "cells": [
  {
   "cell_type": "markdown",
   "id": "a0ce697b",
   "metadata": {},
   "source": [
    "1) For each of the following statements, indicate whether it is True/False. If false, explain why."
   ]
  },
  {
   "cell_type": "markdown",
   "id": "cf9189d0",
   "metadata": {},
   "source": [
    "I) The sample size of the survey should at least be a fixed percentage of the population size in order to produce representative\n",
    "results."
   ]
  },
  {
   "cell_type": "markdown",
   "id": "04f59612",
   "metadata": {},
   "source": [
    "Ans - false.\n",
    "\n",
    "The result depend on the size of the sample .the sample size is (n>=30)."
   ]
  },
  {
   "cell_type": "markdown",
   "id": "47a6cbab",
   "metadata": {},
   "source": [
    "II)The sampling frame is a list of every item that appears in a survey sample, including those that did not respond to questions"
   ]
  },
  {
   "cell_type": "markdown",
   "id": "0ba0be09",
   "metadata": {},
   "source": [
    "Ans - False\n",
    "\n",
    "The sample frame is a list of every item that appears in target population from which sample is selected\n"
   ]
  },
  {
   "cell_type": "markdown",
   "id": "94439416",
   "metadata": {},
   "source": [
    "III) Larger surveys convey a more accurate impression of the population than smaller surveys."
   ]
  },
  {
   "cell_type": "markdown",
   "id": "f422d32e",
   "metadata": {},
   "source": [
    "Ans - True \n",
    "\n",
    "Larger sample size will give less standard deviation as compaired to small sample size.\n",
    "therefore larger surveys convey more accurate impression\n",
    "\n",
    "\n",
    "\n"
   ]
  },
  {
   "cell_type": "markdown",
   "id": "09a1b05c",
   "metadata": {},
   "source": [
    "2)PC Magazine asked all of its readers to participate in a survey of their satisfaction with different brands of electronics. \n",
    "In the 2004 survey, which was included in an issue of the magazine that year, more than 9000 readers rated the products on a \n",
    "scale from 1 to 10. The magazine reported that the average rating assigned by 225 readers to a Kodak compact digital camera was \n",
    "7.5. For this product, identify the following:\n",
    "\n",
    "A)The population\n",
    "B)The parameter of interest\n",
    "C)The sampling frame\n",
    "D)The sample size\n",
    "E)The sampling design\n",
    "F)Any potential sources of bias or other problems with the survey or sample\n"
   ]
  },
  {
   "cell_type": "markdown",
   "id": "3e525715",
   "metadata": {},
   "source": [
    "Ans A) population = 9000\n",
    "\n",
    "    B) parammeter of interest = 7.5\n",
    "\n",
    "    c) the sampling frame = All reader of the issue where the survey was included.\n",
    "\n",
    "    D) The sample size = 225 \n",
    "\n",
    "    E) The sample design = Voluntary Responses \n",
    "\n",
    "    F) It is possible that only those who were particularly pleased or only who are displeased with the product participated in \n",
    "    the survey which can make the result unreliable."
   ]
  },
  {
   "cell_type": "markdown",
   "id": "9f58ef2a",
   "metadata": {},
   "source": [
    "3) For each of the following statements, indicate whether it is True/False. If false, explain why."
   ]
  },
  {
   "cell_type": "markdown",
   "id": "6abfdea0",
   "metadata": {},
   "source": [
    "I) If the 95% confidence interval for the average purchase of customers at a department store is $50 to $110, then $100 is a \n",
    "plausible value for the population mean at this level of confidence."
   ]
  },
  {
   "cell_type": "markdown",
   "id": "5bd0d071",
   "metadata": {},
   "source": [
    "Ans - True\n",
    "\n",
    "Confidence interval is the collection of values for the population parameter that are consistent with the observed sample."
   ]
  },
  {
   "cell_type": "markdown",
   "id": "ea550cee",
   "metadata": {},
   "source": [
    "II) If the 95% confidence interval for the number of moviegoers who purchase concessions is 30% to 45%, this means that fewer\n",
    "than half of all moviegoers purchase concessions."
   ]
  },
  {
   "cell_type": "markdown",
   "id": "8df908e2",
   "metadata": {},
   "source": [
    "Ans - False.\n",
    "\n",
    "We have evidence in that direction but we cannot confirm 100% based on this data. We have to consider the values out of this range(i.e. more than 95% confidance interval)."
   ]
  },
  {
   "cell_type": "markdown",
   "id": "6d840243",
   "metadata": {},
   "source": [
    "III) The 95% Confidence-Interval for μ only applies if the sample data are nearly normally distributed."
   ]
  },
  {
   "cell_type": "markdown",
   "id": "c928ad0f",
   "metadata": {},
   "source": [
    "Ans) False. \n",
    "\n",
    "We should have a moderately large sample(usually at least larger than 30 for many cases), the central limit theorem implies that\n",
    "the sampling distribution is normal regardless of the data itself."
   ]
  },
  {
   "cell_type": "markdown",
   "id": "86fdf5b1",
   "metadata": {},
   "source": [
    "4)  What are the chances that X>mue ?"
   ]
  },
  {
   "cell_type": "markdown",
   "id": "fc5c717c",
   "metadata": {},
   "source": [
    "Ans - B) 1/2\n",
    "there is a 50% chance that the sample mean is greater the pupolation mean."
   ]
  },
  {
   "cell_type": "markdown",
   "id": "bf45fe21",
   "metadata": {},
   "source": [
    "\n",
    "5)In January 2005, a company that monitors Internet traffic (WebSideStory) reported that its sampling revealed that the Mozilla\n",
    "Firefox browser launched in 2004 had grabbed a 4.6% share of the market.\n",
    "\n",
    "\n",
    "II)WebSideStory claims that its sample includes all the daily Internet users. If that’s the case, then can Microsoft conclude \n",
    "that Mozilla has a less than 5% share of the market?\n"
   ]
  },
  {
   "cell_type": "markdown",
   "id": "fbb5042d",
   "metadata": {},
   "source": [
    "I)If the sample were based on 2,000 users, could Microsoft conclude that Mozilla has a less than 5% share of the market?"
   ]
  },
  {
   "cell_type": "markdown",
   "id": "ad217045",
   "metadata": {},
   "source": [
    "solution = \n",
    "x= 0.046\n",
    "n=2000\n",
    "z=1.96\n",
    "q=0.954\n"
   ]
  },
  {
   "cell_type": "code",
   "execution_count": 1,
   "id": "54776e7e",
   "metadata": {},
   "outputs": [],
   "source": [
    "import numpy as np\n",
    "from scipy import stats\n",
    "from scipy.stats import norm"
   ]
  },
  {
   "cell_type": "code",
   "execution_count": 2,
   "id": "ea57d428",
   "metadata": {},
   "outputs": [],
   "source": [
    "# Apply One-Sample One-Tail z-test"
   ]
  },
  {
   "cell_type": "code",
   "execution_count": 3,
   "id": "ded7b64d",
   "metadata": {},
   "outputs": [
    {
     "data": {
      "text/plain": [
       "-0.820782681668124"
      ]
     },
     "execution_count": 3,
     "metadata": {},
     "output_type": "execute_result"
    }
   ],
   "source": [
    "z_scores=(0.046-0.05)/(np.sqrt((0.05*(1-0.05))/2000))\n",
    "z_scores"
   ]
  },
  {
   "cell_type": "code",
   "execution_count": 4,
   "id": "1f4d33b4",
   "metadata": {},
   "outputs": [],
   "source": [
    "# Find Probability assuming null hyposthesis, so as to compare with Type-1 error "
   ]
  },
  {
   "cell_type": "code",
   "execution_count": 5,
   "id": "f2980eaa",
   "metadata": {},
   "outputs": [
    {
     "data": {
      "text/plain": [
       "0.20588503245107104"
      ]
     },
     "execution_count": 5,
     "metadata": {},
     "output_type": "execute_result"
    }
   ],
   "source": [
    "p_value=1-stats.norm.cdf(abs(z_scores))\n",
    "p_value"
   ]
  },
  {
   "cell_type": "markdown",
   "id": "f0c7399b",
   "metadata": {},
   "source": [
    "6)A book publisher monitors the size of shipments of its textbooks to university bookstores. For a sample of texts used at \n",
    "various schools, the 95% confidence interval for the size of the shipment was 250 ± 45 books. Which, if any, of the following\n",
    "interpretations of this interval are correct?"
   ]
  },
  {
   "cell_type": "markdown",
   "id": "0e06b888",
   "metadata": {},
   "source": [
    "A)All shipments are between 205 and 295 books.\n",
    "\n",
    "Ans - Incorrect\n",
    "\n",
    "the interval of (205,295) is for 95% confidance interval"
   ]
  },
  {
   "cell_type": "markdown",
   "id": "2b2eb175",
   "metadata": {},
   "source": [
    "B)95% of shipments are between 205 and 295 books.\n",
    "\n",
    "Ans - Incorrect\n",
    "\n",
    "The interval doesn't describe individual shipments"
   ]
  },
  {
   "cell_type": "markdown",
   "id": "2e54526d",
   "metadata": {},
   "source": [
    "\n",
    "C)The procedure that produced this interval generates ranges that hold the population mean for 95% of samples.\n",
    "\n",
    "\n",
    "Ans- correct\n",
    "\n",
    "95% of intervals created in this way contain the true population mean."
   ]
  },
  {
   "cell_type": "markdown",
   "id": "8c14c6a5",
   "metadata": {},
   "source": [
    "D)If we get another sample, then we can be 95% sure that the mean of this second sample is between 205 and 295.\n",
    "\n",
    "Ans- Incorrect\n",
    "\n",
    "The intervl doesn't describe the mean of another sample"
   ]
  },
  {
   "cell_type": "markdown",
   "id": "e7627489",
   "metadata": {},
   "source": [
    "E)We can be 95% confident that the range 160 to 340 holds the population mean.\n",
    "\n",
    "Ans- Incorrect\n",
    "\n",
    "The interval doesn't correspond to  95% C.I.\n"
   ]
  },
  {
   "cell_type": "markdown",
   "id": "8bcef02c",
   "metadata": {},
   "source": [
    "\n",
    "\n",
    "7)  Which is shorter: a 95% z-interval or a 95% t-interval for μ if we know that σ =s?\n",
    "\n",
    "A)The z-interval is shorter\n",
    "B)The t-interval is shorter\n",
    "C)Both are equal\n",
    "D)We cannot say\n"
   ]
  },
  {
   "cell_type": "markdown",
   "id": "05c863df",
   "metadata": {},
   "source": [
    "Ans- A.The z-interval is shorter"
   ]
  },
  {
   "cell_type": "markdown",
   "id": "e6428a40",
   "metadata": {},
   "source": [
    "8)  How many randomly selected employers (minimum number) must we contact in order to guarantee a margin of error of no more than 4% (at 95% confidence)?\n",
    "\n",
    "A)600\n",
    "B)400\n",
    "C)550\n",
    "D)1000\n"
   ]
  },
  {
   "cell_type": "markdown",
   "id": "8bee56e2",
   "metadata": {},
   "source": [
    "Ans - A) 600"
   ]
  },
  {
   "cell_type": "markdown",
   "id": "e601f4f7",
   "metadata": {},
   "source": [
    "9)  Suppose we want the above margin of error to be based on a 98% confidence level. What sample size (minimum) must we now use?\n",
    "\n",
    "A)1000\n",
    "B)757\n",
    "C)848\n",
    "D)543\n"
   ]
  },
  {
   "cell_type": "markdown",
   "id": "a443614a",
   "metadata": {},
   "source": [
    "Ans- c)848.35"
   ]
  },
  {
   "cell_type": "code",
   "execution_count": null,
   "id": "5c08c7b5",
   "metadata": {},
   "outputs": [],
   "source": []
  }
 ],
 "metadata": {
  "kernelspec": {
   "display_name": "Python 3 (ipykernel)",
   "language": "python",
   "name": "python3"
  },
  "language_info": {
   "codemirror_mode": {
    "name": "ipython",
    "version": 3
   },
   "file_extension": ".py",
   "mimetype": "text/x-python",
   "name": "python",
   "nbconvert_exporter": "python",
   "pygments_lexer": "ipython3",
   "version": "3.11.3"
  }
 },
 "nbformat": 4,
 "nbformat_minor": 5
}
