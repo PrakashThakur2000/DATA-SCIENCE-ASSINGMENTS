{
 "cells": [
  {
   "cell_type": "markdown",
   "id": "630982eb",
   "metadata": {},
   "source": [
    "1) Examine the following normal Quantile plots carefully. Which of these plots indicates that the data …"
   ]
  },
  {
   "cell_type": "markdown",
   "id": "a4c1f9a6",
   "metadata": {},
   "source": [
    "I)Are nearly normal?\n",
    "\n",
    "\n",
    "Ans- c is nearly normal"
   ]
  },
  {
   "cell_type": "markdown",
   "id": "bb322e36",
   "metadata": {},
   "source": [
    "II) Have a bimodal distribution? (One way to recognize a bimodal shape is a “gap” in the spacing of adjacent data values.)\n",
    "\n",
    "Ans- B and D "
   ]
  },
  {
   "cell_type": "markdown",
   "id": "0e153721",
   "metadata": {},
   "source": [
    "III) Are skewed (i.e. not symmetric) ?\n",
    "\n",
    "Ans- A,B and D"
   ]
  },
  {
   "cell_type": "markdown",
   "id": "3f632793",
   "metadata": {},
   "source": [
    "IV) Have outliers on both sides of the center?\n",
    "\n",
    "Ans- A and B"
   ]
  },
  {
   "cell_type": "markdown",
   "id": "9bb8e283",
   "metadata": {},
   "source": [
    "2) For each of the following statements, indicate whether it is True/False. If false, explain why.\n",
    "\n",
    "The manager of a warehouse monitors the volume of shipments made by the delivery team. The automated tracking system tracks\n",
    "every package as it moves through the facility. A sample of 25 packages is selected and weighed every day. Based on current\n",
    "contracts with customers, the weights should have μ = 22 lbs. and σ = 5 lbs."
   ]
  },
  {
   "cell_type": "markdown",
   "id": "18d297b6",
   "metadata": {},
   "source": [
    "i) Before using a normal model for the sampling distribution of the average package weights, the manager must confirm that \n",
    "weights of individual packages are normally distributed.\n"
   ]
  },
  {
   "cell_type": "markdown",
   "id": "12c0aad7",
   "metadata": {},
   "source": [
    "Ans-  False : A sampling distribution is a probability distribution of a statistic obtained from a larger number of samples\n",
    "    drawn from a specific population. In our case the samples contain 25 packages and the larger number of samples contain of \n",
    "    each such 25 packages taken into different samples (25+25+25+25…and so on). The mean for one these samples is 22lbs and\n",
    "    standard deviation of 5lbs which means each individual package is having a weight varying between + or – 5lbs with respect \n",
    "    to mean(22lbs). Hence it is invalid to take a weight of individual packages and confirm that it follows normal distribution\n",
    "    before using a normal model for the sampling distribution. The Sample Central Limit Theorem states that the sampling \n",
    "    distribution of the samples mean approaches normal distribution as the sample size is large enough."
   ]
  },
  {
   "cell_type": "markdown",
   "id": "704751f7",
   "metadata": {},
   "source": [
    "ii) The standard error of the daily average SE(x ̅) = 1."
   ]
  },
  {
   "cell_type": "markdown",
   "id": "c0c042a0",
   "metadata": {},
   "source": [
    " True : As SE(Standard Error) = sample standard deviation / Square root of (number of sample) SE = 5 / (25)^1/2 SE = 1"
   ]
  },
  {
   "cell_type": "markdown",
   "id": "4c93580d",
   "metadata": {},
   "source": [
    "3) Auditors at a small community bank randomly sample 100 withdrawal transactions made during the week at an ATM machine located\n",
    "near the bank’s main branch. Over the past 2 years, the average withdrawal amount has been $50 with a standard deviation of $40.\n",
    "Since audit investigations are typically expensive, the auditors decide to not initiate further investigations if the mean \n",
    "transaction amount of the sample is between $45 and $55. What is the probability that in any given week, there will be an \n",
    "investigation?\n",
    "\n"
   ]
  },
  {
   "cell_type": "markdown",
   "id": "5b110075",
   "metadata": {},
   "source": [
    "Ans: D\n",
    "\n",
    "  t=(x-mean)/sigma/sqrt(n); t-test, because standard deviation is not given for the long term =(45-50) or (55-50)/40/sqrt(100)\n",
    "  =+/- 5/40/sqrt(100) =+/- 1.25 The probability of z between those values is 0.7857, so probability of an investigation is\n",
    "  1-0.7887, or 0.214."
   ]
  },
  {
   "cell_type": "markdown",
   "id": "ba011bc0",
   "metadata": {},
   "source": [
    "4) The auditors from the above example would like to maintain the probability of investigation to 5%. Which of the following\n",
    "represents the minimum number transactions that they should sample if they do not want to change the thresholds of 45 and 55?\n",
    "Assume that the sample statistics remain unchanged."
   ]
  },
  {
   "cell_type": "markdown",
   "id": "420f73cb",
   "metadata": {},
   "source": [
    "Ans: D\n",
    "    For 5%, t-value is +/-1.96 t_value = (x_bar – mew)/(sample_standard_deviation/sqrt(n)) so\n",
    "    \n",
    "    1.96=(5)/(sqrt(n)/40) sqrt(n)= (40*tvalue)/(5)\n",
    "    \n",
    "    n=248"
   ]
  },
  {
   "cell_type": "markdown",
   "id": "dfec22f1",
   "metadata": {},
   "source": [
    "5) An educational startup that helps MBA aspirants write their essays is targeting individuals who have taken GMAT in 2012 and \n",
    "have expressed interest in applying to FT top 20 b-schools. There are 40000 such individuals with an average GMAT score of 720\n",
    "and a standard deviation of 120. The scores are distributed between 650 and 790 with a very long and thin tail towards the\n",
    "higher end resulting in substantial skewness. Which of the following is likely to be true for randomly chosen samples of\n",
    "aspirants?\n",
    "\n"
   ]
  },
  {
   "cell_type": "markdown",
   "id": "de1adba0",
   "metadata": {},
   "source": [
    "Ans: E Standard error = sigma / (n)^0.5 = standard deviation / (sample size)^0.5 = 120 / (40000)^0.5 = 0.6"
   ]
  },
  {
   "cell_type": "code",
   "execution_count": null,
   "id": "dda80f63",
   "metadata": {},
   "outputs": [],
   "source": []
  }
 ],
 "metadata": {
  "kernelspec": {
   "display_name": "Python 3 (ipykernel)",
   "language": "python",
   "name": "python3"
  },
  "language_info": {
   "codemirror_mode": {
    "name": "ipython",
    "version": 3
   },
   "file_extension": ".py",
   "mimetype": "text/x-python",
   "name": "python",
   "nbconvert_exporter": "python",
   "pygments_lexer": "ipython3",
   "version": "3.11.3"
  }
 },
 "nbformat": 4,
 "nbformat_minor": 5
}
